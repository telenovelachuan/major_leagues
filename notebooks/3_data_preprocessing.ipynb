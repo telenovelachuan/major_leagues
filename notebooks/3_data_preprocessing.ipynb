{
 "cells": [
  {
   "cell_type": "code",
   "execution_count": 1,
   "metadata": {},
   "outputs": [
    {
     "name": "stdout",
     "output_type": "stream",
     "text": [
      "Dropping na for scores\n",
      "   year  month  day  league_id                   league  cntry_att  cntry_def  \\\n",
      "0  2016      8   12       1843           French Ligue 1       2.69       0.54   \n",
      "1  2016      8   12       1843           French Ligue 1       2.69       0.54   \n",
      "2  2016      8   13       2411  Barclays Premier League       2.71       0.54   \n",
      "3  2016      8   13       2411  Barclays Premier League       2.71       0.54   \n",
      "4  2016      8   13       2411  Barclays Premier League       2.71       0.54   \n",
      "\n",
      "   cntry_spi  cntry_rank           team1  ... a_gl_dif_5  a_gl_dif_10  \\\n",
      "0      85.77           8          Bastia  ...          0            0   \n",
      "1      85.77           8       AS Monaco  ...          0            0   \n",
      "2      86.09           7       Hull City  ...          0            0   \n",
      "3      86.09           7  Crystal Palace  ...          0            0   \n",
      "4      86.09           7         Everton  ...          0            0   \n",
      "\n",
      "   h_gfw_5  h_gfs_5  h_gaw_5  h_gas_5  a_gfw_5  a_gfs_5  a_gaw_5  a_gas_5  \n",
      "0        0        0        0        0        0        0        0        0  \n",
      "1        0        0        0        0        0        0        0        0  \n",
      "2        0        0        0        0        0        0        0        0  \n",
      "3        0        0        0        0        0        0        0        0  \n",
      "4        0        0        0        0        0        0        0        0  \n",
      "\n",
      "[5 rows x 70 columns]\n"
     ]
    }
   ],
   "source": [
    "import pandas as pd\n",
    "final_input = pd.read_csv(\"../data/processed/final.csv\")\n",
    "print \"Dropping na for scores\"\n",
    "final_input.dropna(subset=['score1', 'score2'], inplace=True)\n",
    "print final_input.head()"
   ]
  },
  {
   "cell_type": "code",
   "execution_count": 2,
   "metadata": {},
   "outputs": [
    {
     "name": "stdout",
     "output_type": "stream",
     "text": [
      "one-hot encode categorical columns: league, team1 and team2\n",
      "   year  month  day  league_id  cntry_att  cntry_def  cntry_spi  cntry_rank  \\\n",
      "0  2016      8   12       1843       2.69       0.54      85.77           8   \n",
      "1  2016      8   12       1843       2.69       0.54      85.77           8   \n",
      "2  2016      8   13       2411       2.71       0.54      86.09           7   \n",
      "3  2016      8   13       2411       2.71       0.54      86.09           7   \n",
      "4  2016      8   13       2411       2.71       0.54      86.09           7   \n",
      "\n",
      "    spi1   spi2  ...  team2_Wolverhampton  team2_Wuhan Zall  \\\n",
      "0  51.16  85.68  ...                    0                 0   \n",
      "1  68.85  56.48  ...                    0                 0   \n",
      "2  53.57  66.81  ...                    0                 0   \n",
      "3  55.19  58.66  ...                    0                 0   \n",
      "4  68.02  73.25  ...                    0                 0   \n",
      "\n",
      "   team2_Wycombe Wanderers  team2_Yeni Malatyaspor  team2_Yeovil Town  \\\n",
      "0                        0                       0                  0   \n",
      "1                        0                       0                  0   \n",
      "2                        0                       0                  0   \n",
      "3                        0                       0                  0   \n",
      "4                        0                       0                  0   \n",
      "\n",
      "   team2_Yokohama F. Marinos  team2_Young Boys  team2_Zenit St Petersburg  \\\n",
      "0                          0                 0                          0   \n",
      "1                          0                 0                          0   \n",
      "2                          0                 0                          0   \n",
      "3                          0                 0                          0   \n",
      "4                          0                 0                          0   \n",
      "\n",
      "   team2_Zlín  team2_Östersunds FK  \n",
      "0           0                    0  \n",
      "1           0                    0  \n",
      "2           0                    0  \n",
      "3           0                    0  \n",
      "4           0                    0  \n",
      "\n",
      "[5 rows x 1607 columns]\n"
     ]
    }
   ],
   "source": [
    "print \"one-hot encode categorical columns: league, team1 and team2\"\n",
    "columns_to_dummy = ['league', 'team1', 'team2']\n",
    "df = pd.get_dummies(final_input, columns=columns_to_dummy)\n",
    "print df.head()"
   ]
  },
  {
   "cell_type": "code",
   "execution_count": 3,
   "metadata": {},
   "outputs": [
    {
     "name": "stdout",
     "output_type": "stream",
     "text": [
      "Standardizing numeric columns\n",
      "       year     month       day  league_id  cntry_att  cntry_def  cntry_spi  \\\n",
      "0 -2.393402  0.344813 -0.439434  -0.410628   0.419121  -0.111318   0.469052   \n",
      "1 -2.393402  0.344813 -0.439434  -0.410628   0.419121  -0.111318   0.469052   \n",
      "2 -2.393402  0.344813 -0.326878   0.372279   0.443934  -0.111318   0.487456   \n",
      "3 -2.393402  0.344813 -0.326878   0.372279   0.443934  -0.111318   0.487456   \n",
      "4 -2.393402  0.344813 -0.326878   0.372279   0.443934  -0.111318   0.487456   \n",
      "\n",
      "   cntry_rank      spi1      spi2  ...  team2_Wolverhampton  team2_Wuhan Zall  \\\n",
      "0   -0.438110  0.310132  2.161045  ...            -0.042699         -0.021561   \n",
      "1   -0.438110  1.256416  0.598076  ...            -0.042699         -0.021561   \n",
      "2   -0.502062  0.439049  1.151003  ...            -0.042699         -0.021561   \n",
      "3   -0.502062  0.525707  0.714764  ...            -0.042699         -0.021561   \n",
      "4   -0.502062  1.212017  1.495713  ...            -0.042699         -0.021561   \n",
      "\n",
      "   team2_Wycombe Wanderers  team2_Yeni Malatyaspor  team2_Yeovil Town  \\\n",
      "0                -0.032945               -0.037878          -0.029856   \n",
      "1                -0.032945               -0.037878          -0.029856   \n",
      "2                -0.032945               -0.037878          -0.029856   \n",
      "3                -0.032945               -0.037878          -0.029856   \n",
      "4                -0.032945               -0.037878          -0.029856   \n",
      "\n",
      "   team2_Yokohama F. Marinos  team2_Young Boys  team2_Zenit St Petersburg  \\\n",
      "0                  -0.029199         -0.043152                  -0.043152   \n",
      "1                  -0.029199         -0.043152                  -0.043152   \n",
      "2                  -0.029199         -0.043152                  -0.043152   \n",
      "3                  -0.029199         -0.043152                  -0.043152   \n",
      "4                  -0.029199         -0.043152                  -0.043152   \n",
      "\n",
      "   team2_Zlín  team2_Östersunds FK  \n",
      "0   -0.010778            -0.043152  \n",
      "1   -0.010778            -0.043152  \n",
      "2   -0.010778            -0.043152  \n",
      "3   -0.010778            -0.043152  \n",
      "4   -0.010778            -0.043152  \n",
      "\n",
      "[5 rows x 1607 columns]\n"
     ]
    }
   ],
   "source": [
    "print \"Standardizing numeric columns\"\n",
    "from sklearn.preprocessing import StandardScaler, OneHotEncoder\n",
    "from sklearn.impute import SimpleImputer\n",
    "from sklearn.pipeline import Pipeline\n",
    "num_pipeline = Pipeline([\n",
    "    ('imputer', SimpleImputer(strategy=\"median\")),\n",
    "    ('std_scaler', StandardScaler()),\n",
    "])\n",
    "df_columns = df.columns.to_list()\n",
    "df_columns.remove('score1')\n",
    "df_columns.remove('score2')\n",
    "df[df_columns] = num_pipeline.fit_transform(df[df_columns])\n",
    "print df.head()"
   ]
  },
  {
   "cell_type": "code",
   "execution_count": 5,
   "metadata": {},
   "outputs": [
    {
     "name": "stdout",
     "output_type": "stream",
     "text": [
      "splitting training/test set\n",
      "           year     month       day  league_id  cntry_att  cntry_def  \\\n",
      "18120  1.144440 -1.444267 -0.664547  -0.406493   0.940191   0.040946   \n",
      "21393  1.144440 -0.549727 -1.339884  -0.395466  -0.089543  -0.202677   \n",
      "8021  -0.034841 -1.444267  0.235904  -0.381683   0.046928  -0.019960   \n",
      "12594 -0.034841  0.642993 -1.677553  -0.267279  -0.461736   0.680458   \n",
      "15410 -0.034841  1.239353 -0.777103  -0.406493   0.940191   0.040946   \n",
      "\n",
      "       cntry_spi  cntry_rank      spi1      spi2  ...  team2_Wolverhampton  \\\n",
      "18120   0.642167   -0.757870 -0.846378 -0.266909  ...            -0.042699   \n",
      "21393   0.246476   -0.182302  0.633227  1.943193  ...            -0.042699   \n",
      "8021    0.256828   -0.246254  0.052833  0.744203  ...            -0.042699   \n",
      "12594  -0.388470    0.585121  0.264129 -0.076890  ...            -0.042699   \n",
      "15410   0.642167   -0.757870 -0.592288 -0.480479  ...            -0.042699   \n",
      "\n",
      "       team2_Wuhan Zall  team2_Wycombe Wanderers  team2_Yeni Malatyaspor  \\\n",
      "18120         -0.021561                -0.032945               -0.037878   \n",
      "21393         -0.021561                -0.032945               -0.037878   \n",
      "8021          -0.021561                -0.032945               -0.037878   \n",
      "12594         -0.021561                -0.032945               -0.037878   \n",
      "15410         -0.021561                -0.032945               -0.037878   \n",
      "\n",
      "       team2_Yeovil Town  team2_Yokohama F. Marinos  team2_Young Boys  \\\n",
      "18120          -0.029856                  -0.029199         -0.043152   \n",
      "21393          -0.029856                  -0.029199         -0.043152   \n",
      "8021           -0.029856                  -0.029199         -0.043152   \n",
      "12594          -0.029856                  -0.029199         -0.043152   \n",
      "15410          -0.029856                  -0.029199         -0.043152   \n",
      "\n",
      "       team2_Zenit St Petersburg  team2_Zlín  team2_Östersunds FK  \n",
      "18120                  -0.043152   -0.010778            -0.043152  \n",
      "21393                  -0.043152   -0.010778            -0.043152  \n",
      "8021                   -0.043152   -0.010778            -0.043152  \n",
      "12594                  -0.043152   -0.010778            -0.043152  \n",
      "15410                  -0.043152   -0.010778            -0.043152  \n",
      "\n",
      "[5 rows x 1607 columns]\n"
     ]
    }
   ],
   "source": [
    "print \"splitting training/test set\"\n",
    "from sklearn.model_selection import train_test_split, cross_val_score\n",
    "train_set, test_set = train_test_split(df, test_size=0.2, random_state=42)\n",
    "print train_set.head()"
   ]
  },
  {
   "cell_type": "code",
   "execution_count": null,
   "metadata": {},
   "outputs": [],
   "source": []
  }
 ],
 "metadata": {
  "kernelspec": {
   "display_name": "Python 2",
   "language": "python",
   "name": "python2"
  },
  "language_info": {
   "codemirror_mode": {
    "name": "ipython",
    "version": 2
   },
   "file_extension": ".py",
   "mimetype": "text/x-python",
   "name": "python",
   "nbconvert_exporter": "python",
   "pygments_lexer": "ipython2",
   "version": "2.7.10"
  }
 },
 "nbformat": 4,
 "nbformat_minor": 2
}
